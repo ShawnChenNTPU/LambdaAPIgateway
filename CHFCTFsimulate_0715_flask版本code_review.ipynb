{
  "nbformat": 4,
  "nbformat_minor": 0,
  "metadata": {
    "colab": {
      "name": "CHFCTFsimulate_0715_flask版本code_review",
      "provenance": []
    },
    "kernelspec": {
      "name": "python3",
      "display_name": "Python 3"
    },
    "language_info": {
      "name": "python"
    }
  },
  "cells": [
    {
      "cell_type": "markdown",
      "source": [
        "\n",
        "## Nnwdaf_Analytics_Subscription_Subscribe"
      ],
      "metadata": {
        "id": "vsgQMbUU_LEZ"
      }
    },
    {
      "cell_type": "code",
      "execution_count": null,
      "metadata": {
        "id": "5T6qD1fJBc9d"
      },
      "outputs": [],
      "source": [
        "#EC2 Nnwdaf_Analytics_Subscription_Subscribe\n",
        "from flask import Flask, request, jsonify\n",
        "from flask_cors import CORS\n",
        "from sklearn.preprocessing import MinMaxScaler\n",
        "import boto3, json\n",
        "import joblib\n",
        "import numpy as np\n",
        "import torch\n",
        "import torch.nn as nn\n",
        "from torch.autograd import Variable\n",
        "from io import BytesIO\n",
        "import numpy as np\n",
        "from urllib.parse import urlparse\n",
        "from GRUModel import GRUModel\n",
        "app=Flask(__name__)\n",
        "CORS(app)\n",
        "@app.route('/',methods=['POST'])\n",
        "def handler():\n",
        "    client = boto3.client(\"s3\")\n",
        "    bytes_ = BytesIO()\n",
        "    parsed_s3 = urlparse(\"s3://thesisntpu20220513/1009680truevalue_0714.npy\")\n",
        "    client.download_fileobj(\n",
        "        Fileobj=bytes_, Bucket=parsed_s3.netloc, Key=parsed_s3.path[1:]\n",
        "    )\n",
        "    bytes_.seek(0)\n",
        "    data=np.load(bytes_, allow_pickle=True)\n",
        "    gruencoder=joblib.load(\"/home/ec2-user/environment/python-nwdaf-3.14/gruencoder.pkl\")\n",
        "    grulearner=joblib.load(\"/home/ec2-user/environment/python-nwdaf-3.14/grulearner.pkl\")\n",
        "    sc = MinMaxScaler()\n",
        "    testX = sc.fit_transform(data)\n",
        "    testX=testX.reshape(-1,1,1)\n",
        "    testX = Variable(torch.Tensor(np.array(testX)))\n",
        "    test = grulearner(gruencoder(testX))\n",
        "    test = test.data.numpy()\n",
        "    test = sc.inverse_transform(test)\n",
        "    bytes_2= BytesIO()\n",
        "    np.save(bytes_2, test, allow_pickle=True)\n",
        "    bytes_2.seek(0)\n",
        "    parsed_s3_u = urlparse(\"s3://thesisntpu20220513/1009680truevalue_0714.npy\")\n",
        "    client.upload_fileobj(\n",
        "         Fileobj=bytes_2, Bucket=parsed_s3_u.netloc, Key=parsed_s3_u.path[1:]\n",
        "     )\n",
        "    # output=json.loads(json.dumps(test, default=str))\n",
        "    response = {'statusCode': 200, 'body' : \"OK\"}\n",
        "    return(response)\n",
        "if __name__ =='__main__':\n",
        "    app.run(host='0.0.0.0',port=3001,debug=True)\n",
        "\n"
      ]
    },
    {
      "cell_type": "code",
      "source": [
        ""
      ],
      "metadata": {
        "id": "a39R4gcrB0ye"
      },
      "execution_count": null,
      "outputs": []
    }
  ]
}