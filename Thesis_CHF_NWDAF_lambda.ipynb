{
  "nbformat": 4,
  "nbformat_minor": 0,
  "metadata": {
    "colab": {
      "name": "Thesis_CHF_NWDAF_lambda",
      "provenance": []
    },
    "kernelspec": {
      "name": "python3",
      "display_name": "Python 3"
    },
    "language_info": {
      "name": "python"
    }
  },
  "cells": [
    {
      "cell_type": "markdown",
      "source": [
        "## **Registration**"
      ],
      "metadata": {
        "id": "Sj-gO-wS0hVi"
      }
    },
    {
      "cell_type": "code",
      "execution_count": null,
      "metadata": {
        "id": "bXg5uoy20GfQ"
      },
      "outputs": [],
      "source": [
        "#registration\n",
        "import boto3, json, os, datetime as dt\n",
        "from random import randrange\n",
        "from boto3.dynamodb.conditions import Key, Attr\n",
        "\n",
        "def lambda_handler(event, context):\n",
        "    for k in range(0,5350,1):\n",
        "        k=str(k)\n",
        "        userid=\"imsi-20893\"+str(k.zfill(10))\n",
        "        ueID = userid\n",
        "        dynamodb = boto3.resource('dynamodb', region_name='us-east-1')\n",
        "        table = dynamodb.Table('Subscribe_User')\n",
        "        dynamodb_client = boto3.client('dynamodb')\n",
        "        startSession = table.put_item(\n",
        "            Item={\n",
        "                'ue_ID': ueID,\n",
        "                'Units': \"4.8\" #initial GU\n",
        "            }\n",
        "        )\n",
        "      \n",
        "    output = \" Create Successful!!\" \n",
        "    response = {'statusCode': 200, 'body' : output}\n",
        "    return response\n",
        "    "
      ]
    },
    {
      "cell_type": "markdown",
      "source": [
        "## **Get Subscribe_User**"
      ],
      "metadata": {
        "id": "PLEnjQYO03OR"
      }
    },
    {
      "cell_type": "code",
      "source": [
        "#get Subscribe_User \n",
        "import boto3, json, os, datetime as dt\n",
        "from random import randrange\n",
        "from boto3.dynamodb.conditions import Key, Attr\n",
        "def lambda_handler(event, context):\n",
        "    ueID = event['ue_ID']\n",
        "    dynamodb_resource = boto3.resource('dynamodb')\n",
        "    suscribetable=dynamodb_resource.Table('Subscribe_User')\n",
        "    GU_old = suscribetable.query(\n",
        "        KeyConditionExpression=Key('ue_ID').eq(ueID)\n",
        "    )\n",
        "    for i in GU_old['Items']:\n",
        "        GU_value=i['Units']\n",
        "    output=GU_value\n",
        "    response = {'statusCode': 200, 'body' : output}\n",
        "    return response"
      ],
      "metadata": {
        "id": "RL4zlZXJ0y9m"
      },
      "execution_count": null,
      "outputs": []
    },
    {
      "cell_type": "markdown",
      "source": [
        "## **Get_predict_data**"
      ],
      "metadata": {
        "id": "15IJCc2h10fd"
      }
    },
    {
      "cell_type": "code",
      "source": [
        "#get_predict_data\n",
        "import boto3, json, os, datetime as dt\n",
        "from random import randrange\n",
        "from boto3.dynamodb.conditions import Key, Attr\n",
        "def lambda_handler(event, context):\n",
        "    ueID = event['ue_ID']\n",
        "    Time = event['datetime']\n",
        "    dynamodb_resource = boto3.resource('dynamodb')\n",
        "    #uetable = dynamodb_resource.Table(ueID)\n",
        "    uetable = dynamodb_resource.Table('Predict_data')\n",
        "    # GU_cost = uetable.query(\n",
        "    #     KeyConditionExpression=Key('datetime').eq(Time)\n",
        "    # )\n",
        "    Predict_GU = uetable.get_item(Key={'ueid': ueID, 'datetime': Time})\n",
        "     \n",
        "    # for i in GU_cost['Items']:\n",
        "    #     GU_cumsume=i['Internet']\n",
        "    rea= Predict_GU['Item']\n",
        "    Predict_GU=rea['predictdata']\n",
        "    \n",
        "    output=Predict_GU\n",
        "    response = {'statusCode': 200, 'body' : output}\n",
        "    return response\n",
        "    \n"
      ],
      "metadata": {
        "id": "cmQuVqgR1r2f"
      },
      "execution_count": null,
      "outputs": []
    },
    {
      "cell_type": "markdown",
      "source": [
        "## **Get_internet_data**"
      ],
      "metadata": {
        "id": "k0Fmrarz2DAG"
      }
    },
    {
      "cell_type": "code",
      "source": [
        "#get_internet_data\n",
        "import boto3, json, os, datetime as dt\n",
        "from random import randrange\n",
        "from boto3.dynamodb.conditions import Key, Attr\n",
        "def lambda_handler(event, context):\n",
        "    ueID = event['ue_ID']\n",
        "    Time = event['datetime']\n",
        "    dynamodb_resource = boto3.resource('dynamodb')\n",
        "    #uetable = dynamodb_resource.Table(ueID)\n",
        "    uetable = dynamodb_resource.Table('ADRF')\n",
        "    # GU_cost = uetable.query(\n",
        "    #     KeyConditionExpression=Key('datetime').eq(Time)\n",
        "    # )\n",
        "    GU_cost = uetable.get_item(Key={'ueid': ueID, 'datetime': Time})\n",
        "     \n",
        "    # for i in GU_cost['Items']:\n",
        "    #     GU_cumsume=i['Internet']\n",
        "    rea=GU_cost['Item']\n",
        "    GU_cumsume=rea['Internet']\n",
        "    \n",
        "    output=GU_cumsume\n",
        "    response = {'statusCode': 200, 'body' : output}\n",
        "    return response\n",
        "    \n"
      ],
      "metadata": {
        "id": "nSg9KwUp17Cu"
      },
      "execution_count": null,
      "outputs": []
    },
    {
      "cell_type": "markdown",
      "source": [
        "## **Write Session**"
      ],
      "metadata": {
        "id": "Am4Qj5Bq2O6n"
      }
    },
    {
      "cell_type": "code",
      "source": [
        " \n",
        "import boto3, json, os, datetime as dt\n",
        "import urllib3\n",
        "http = urllib3.PoolManager()\n",
        "from boto3.dynamodb.conditions import Key, Attr\n",
        "\n",
        "def getGuvalues(ueID):\n",
        "    data = json.dumps({'ue_ID':ueID})\n",
        "    URL=''\n",
        "    response = http.request('POST',URL, body=data)\n",
        "    response=response.data.decode()\n",
        "    response=json.loads(response)\n",
        "    response=response['body']\n",
        "    return response\n",
        "    \n",
        "def putGU(ueID,value):\n",
        "    data = json.dumps({'ue_ID':ueID,'value':value})\n",
        "    URL=''\n",
        "    response = http.request('POST',URL, body=data)\n",
        "    response=response.data.decode()\n",
        "    response=json.loads(response)\n",
        "    return response\n",
        "    \n",
        "def getInternetvalues(ueID,time):\n",
        "    data = json.dumps({'ue_ID':ueID,'datetime':time})\n",
        "    URL=''\n",
        "    response = http.request('POST',URL, body=data)\n",
        "    response=response.data.decode()\n",
        "    response=json.loads(response)\n",
        "    response=response['body']\n",
        "    return response\n",
        "\n",
        "    \n",
        "def lambda_handler(event, context):\n",
        "    ueID = event['ue_ID']\n",
        "    time = event['time']\n",
        "    GU_old=float(getGuvalues(ueID))\n",
        "    GU_consume=float(getInternetvalues(ueID,time))\n",
        "    GU_new=GU_old-GU_consume\n",
        "    GU_new=str(GU_new)\n",
        "    putGU(ueID,GU_new)\n",
        "    output=time+\" [CTF]\" +ueID+\" Collecting Charging Event.\"\n",
        "    response = {'statusCode': 200, 'body' : output}\n",
        "    return response"
      ],
      "metadata": {
        "id": "hLN0uu6Q2GN3"
      },
      "execution_count": null,
      "outputs": []
    },
    {
      "cell_type": "markdown",
      "source": [
        "## **Put_dynamodb**"
      ],
      "metadata": {
        "id": "l_trUJX33Nm6"
      }
    },
    {
      "cell_type": "code",
      "source": [
        "#put_dynamodb\n",
        "import boto3, json, os, datetime as dt\n",
        "from random import randrange\n",
        "from boto3.dynamodb.conditions import Key, Attr\n",
        "def lambda_handler(event, context):\n",
        "    #body = json.loads(event['body'])\n",
        "    ueID = event['ue_ID']\n",
        "    value= event['value']\n",
        "    dynamodb_resource = boto3.resource('dynamodb')\n",
        "    \n",
        "    suscribetable=dynamodb_resource.Table('Subscribe_User')\n",
        "    GU_old = suscribetable.query(\n",
        "        KeyConditionExpression=Key('ue_ID').eq(ueID)\n",
        "    )\n",
        "  \n",
        "\n",
        "    suscribetable.update_item(\n",
        "    Key={ 'ue_ID': ueID,},\n",
        "    UpdateExpression=\"set Units=:u\",\n",
        "    ExpressionAttributeValues={\n",
        "       ':u': value\n",
        "    },\n",
        "    )\n",
        "    \n",
        "    response = {'statusCode': 200, 'body' : \"put ok\"}\n",
        "    return response\n",
        "    \n"
      ],
      "metadata": {
        "id": "_Le-VIMM2SLM"
      },
      "execution_count": null,
      "outputs": []
    },
    {
      "cell_type": "markdown",
      "source": [
        "## **Nchf_ConvergedChargingFunction_update**"
      ],
      "metadata": {
        "id": "sYURcGgH3SLm"
      }
    },
    {
      "cell_type": "code",
      "source": [
        " \n",
        "import boto3, json, os, datetime as dt\n",
        "import urllib3\n",
        "http = urllib3.PoolManager()\n",
        "from boto3.dynamodb.conditions import Key, Attr\n",
        "\n",
        "def getGuvalues(ueID):\n",
        "    data = json.dumps({'ue_ID':ueID})\n",
        "    URL=''\n",
        "    response = http.request('POST',URL, body=data)\n",
        "    response=response.data.decode()\n",
        "    response=json.loads(response)\n",
        "    response=response['body']\n",
        "    return response\n",
        "\n",
        "def getpredictvalue(ueID,time):\n",
        "    data = json.dumps({'ue_ID':ueID,'datetime':time})\n",
        "    URL=''\n",
        "    response = http.request('POST',URL, body=data)\n",
        "    response=response.data.decode()\n",
        "    response=json.loads(response)\n",
        "    response=response['body']\n",
        "    return response\n",
        "    \n",
        "def putGU(ueID,value):\n",
        "    data = json.dumps({'ue_ID':ueID,'value':value})\n",
        "    URL=''\n",
        "    response = http.request('POST',URL, body=data)\n",
        "    response=response.data.decode()\n",
        "    response=json.loads(response)\n",
        "    return response\n",
        "    \n",
        "def nchf_convergedchargingfunction_update(ueID,time):\n",
        "    data = json.dumps({'ue_ID':ueID,'datetime':time})\n",
        "    URL=''\n",
        "    response = http.request('POST',URL, body=data)\n",
        "    response=response.data.decode()\n",
        "    response=json.loads(response)\n",
        "    response=response['body']\n",
        "    return response\n",
        "     \n",
        "def lambda_handler(event, context):\n",
        "    ueID = event['ue_ID']\n",
        "    time = event['datetime']\n",
        "    data_GU=float(getGuvalues(ueID))\n",
        "    data_predict=float(getpredictvalue(ueID,time))\n",
        "    # if data_GU<=0.0:\n",
        "    data_GU=data_predict+data_GU\n",
        "    data_GU=str(data_GU)\n",
        "    putGU(ueID,data_GU)\n",
        "    output=time+\" [CHF] \" +ueID+ \" GU exhausted, Updating...\"\n",
        "    response = {'statusCode': 200, 'body' : output}\n",
        "    return response\n",
        "    # else:\n",
        "    #     output=time+\" [CHF]\" +ueID+ \" GU enough, no need to update.\"\n",
        "    #     response = {'statusCode': 200, 'body' : output}\n",
        "    #     return response\n",
        "    # data_GU_check=float(getGuvalues(ueID))\n",
        "    # if data_GU_check<=0.0:\n",
        "    #     nchf_convergedchargingfunction_update(ueID, time)\n"
      ],
      "metadata": {
        "id": "_fL4vJxH2sBZ"
      },
      "execution_count": null,
      "outputs": []
    },
    {
      "cell_type": "markdown",
      "source": [
        "## **Nchf_ConvergedChargingFunction_release**"
      ],
      "metadata": {
        "id": "TMQcHOlF3YX9"
      }
    },
    {
      "cell_type": "code",
      "source": [
        "import json\n",
        "import urllib3\n",
        "http = urllib3.PoolManager()\n",
        "import numpy as np\n",
        "import boto3\n",
        "def getInternetvalues(ueID,time):\n",
        "    data = json.dumps({'ue_ID':ueID,'datetime':time})\n",
        "    URL=''\n",
        "    response = http.request('POST',URL, body=data)\n",
        "    response=response.data.decode()\n",
        "    response=json.loads(response)\n",
        "    response=response['body']\n",
        "    return response\n",
        "    \n",
        "def lambda_handler(event, context):\n",
        "    CDR=[]\n",
        "    for i in range(1,2,1):\n",
        "        i=str(i)\n",
        "        for j in range(0,12,1):\n",
        "            j=str(j)\n",
        "            j=j.zfill(2)\n",
        "            time=\"2013-11-0\"+i+\" \"+j+\":00:00\"\n",
        "            for k in range(1,2,1):\n",
        "                k=str(k)\n",
        "                ueID=\"imsi-20893\"+str(k.zfill(10))\n",
        "                internetdata=getInternetvalues(ueID,time)\n",
        "                CDR.append(internetdata)\n",
        "    CDR=np.array(CDR)\n",
        "    s3 = boto3.client('s3')\n",
        "    s3_resource = boto3.resource('s3')\n",
        "    np.save('/tmp/CDR.npy', CDR)\n",
        "    s3_resource.Bucket('nadrf-datamanagement').upload_file(\"/tmp/CDR.npy\",\"CDR.npy\")                \n",
        "    output=\"release sucessful!!\"\n",
        "    return {\n",
        "                'statusCode': 200,\n",
        "                'body': output\n",
        "            }\n"
      ],
      "metadata": {
        "id": "5nwz5mRW2wRQ"
      },
      "execution_count": null,
      "outputs": []
    }
  ]
}