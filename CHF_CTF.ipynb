{
  "nbformat": 4,
  "nbformat_minor": 0,
  "metadata": {
    "colab": {
      "name": "CHF-CTF",
      "provenance": []
    },
    "kernelspec": {
      "name": "python3",
      "display_name": "Python 3"
    },
    "language_info": {
      "name": "python"
    }
  },
  "cells": [
    {
      "cell_type": "markdown",
      "source": [
        "## **create**"
      ],
      "metadata": {
        "id": "_xUFEhnX8Jte"
      }
    },
    {
      "cell_type": "code",
      "source": [
        "\n",
        "import boto3, json, os, datetime as dt\n",
        "from random import randrange\n",
        "from boto3.dynamodb.conditions import Key, Attr\n",
        "\n",
        "def lambda_handler(event, context):\n",
        "    for k in range(9,5350,1):\n",
        "        k=str(k)\n",
        "        userid=\"imsi-20893\"+str(k.zfill(10))\n",
        "        ueID = userid\n",
        "        dynamodb = boto3.resource('dynamodb', region_name='us-east-1')\n",
        "        table = dynamodb.Table('Subscribe_User')\n",
        "        dynamodb_client = boto3.client('dynamodb')\n",
        "        startSession = table.put_item(\n",
        "            Item={\n",
        "                'ue_ID': ueID,\n",
        "                'Units': \"4.8\"\n",
        "            }\n",
        "        )\n",
        "       \n",
        "      \n",
        "    output = \" Create Successful!!\" \n",
        "    response = {'statusCode': 200, 'body' : output}\n",
        "    return response\n",
        "    "
      ],
      "metadata": {
        "id": "7dF3xsZF25Gz"
      },
      "execution_count": null,
      "outputs": []
    },
    {
      "cell_type": "markdown",
      "source": [
        "##**get Subscribe_User**"
      ],
      "metadata": {
        "id": "F9iE9_Zg8Rms"
      }
    },
    {
      "cell_type": "code",
      "source": [
        "#get Subscribe_User \n",
        "import boto3, json, os, datetime as dt\n",
        "from random import randrange\n",
        "from boto3.dynamodb.conditions import Key, Attr\n",
        "def lambda_handler(event, context):\n",
        "    ueID = event['ue_ID']\n",
        "    dynamodb_resource = boto3.resource('dynamodb')\n",
        "    suscribetable=dynamodb_resource.Table('Subscribe_User')\n",
        "    GU_old = suscribetable.query(\n",
        "        KeyConditionExpression=Key('ue_ID').eq(ueID)\n",
        "    )\n",
        "    for i in GU_old['Items']:\n",
        "        GU_value=i['Units']\n",
        "    output=GU_value\n",
        "    response = {'statusCode': 200, 'body' : output}\n",
        "    return response"
      ],
      "metadata": {
        "id": "vWF3Eibd3b9S"
      },
      "execution_count": null,
      "outputs": []
    },
    {
      "cell_type": "markdown",
      "source": [
        "## **get_dynamodb_ueid**"
      ],
      "metadata": {
        "id": "LXA7TycJ8gFh"
      }
    },
    {
      "cell_type": "code",
      "source": [
        "#get_dynamodb_ueid\n",
        "import boto3, json, os, datetime as dt\n",
        "from random import randrange\n",
        "from boto3.dynamodb.conditions import Key, Attr\n",
        "def lambda_handler(event, context):\n",
        "    ueID = event['ue_ID']\n",
        "    Time = event['datetime']\n",
        "    dynamodb_resource = boto3.resource('dynamodb')\n",
        "    #uetable = dynamodb_resource.Table(ueID)\n",
        "    uetable = dynamodb_resource.Table('ADRF')\n",
        "    # GU_cost = uetable.query(\n",
        "    #     KeyConditionExpression=Key('datetime').eq(Time)\n",
        "    # )\n",
        "    GU_cost = uetable.get_item(Key={'ueid': ueID, 'datetime': Time})\n",
        "     \n",
        "    # for i in GU_cost['Items']:\n",
        "    #     GU_cumsume=i['Internet']\n",
        "    rea=GU_cost['Item']\n",
        "    GU_cumsume=rea['Internet']\n",
        "    \n",
        "    output=GU_cumsume\n",
        "    response = {'statusCode': 200, 'body' : output}\n",
        "    return response\n",
        "    \n"
      ],
      "metadata": {
        "id": "EIT497YZ3jZ3"
      },
      "execution_count": null,
      "outputs": []
    },
    {
      "cell_type": "markdown",
      "source": [
        "## **put_dynamodb**"
      ],
      "metadata": {
        "id": "K2htealo8kgz"
      }
    },
    {
      "cell_type": "code",
      "source": [
        "#put_dynamodb\n",
        "import boto3, json, os, datetime as dt\n",
        "from random import randrange\n",
        "from boto3.dynamodb.conditions import Key, Attr\n",
        "def lambda_handler(event, context):\n",
        "    #body = json.loads(event['body'])\n",
        "    ueID = event['ue_ID']\n",
        "    value= event['value']\n",
        "    dynamodb_resource = boto3.resource('dynamodb')\n",
        "    \n",
        "    suscribetable=dynamodb_resource.Table('Subscribe_User')\n",
        "    GU_old = suscribetable.query(\n",
        "        KeyConditionExpression=Key('ue_ID').eq(ueID)\n",
        "    )\n",
        "  \n",
        "\n",
        "    suscribetable.update_item(\n",
        "    Key={ 'ue_ID': ueID,},\n",
        "    UpdateExpression=\"set Units=:u\",\n",
        "    ExpressionAttributeValues={\n",
        "       ':u': value\n",
        "    },\n",
        "    )\n",
        "    \n",
        "    response = {'statusCode': 200, 'body' : \"put ok\"}\n",
        "    return response\n",
        "    \n"
      ],
      "metadata": {
        "id": "wFIUOaqv3mh4"
      },
      "execution_count": null,
      "outputs": []
    },
    {
      "cell_type": "markdown",
      "source": [
        "## **putGU**"
      ],
      "metadata": {
        "id": "5cB7veYm8spo"
      }
    },
    {
      "cell_type": "code",
      "source": [
        "\n",
        "import json\n",
        "import boto3\n",
        "from boto3.dynamodb.conditions import Key, Attr\n",
        "def lambda_handler(event, context):\n",
        "    for k in range(1,256,1):\n",
        "        k=str(k)\n",
        "        userid=\"imsi-20893\"+str(k.zfill(10))\n",
        "        ueID = userid\n",
        "        dynamodb = boto3.resource('dynamodb', region_name='us-east-1')\n",
        "        table = dynamodb.Table('Subscribe_User')\n",
        "        dynamodb_client = boto3.client('dynamodb')\n",
        "        startSession = table.put_item(\n",
        "            Item={\n",
        "                'ue_ID': ueID,\n",
        "                'GU': \"4.88\"\n",
        "            }\n",
        "        )\n",
        "    return {\n",
        "        'statusCode': 200,\n",
        "        'body': json.dumps('Hello from Lambda!')\n",
        "    }\n"
      ],
      "metadata": {
        "id": "wQ1cXbNW3pWl"
      },
      "execution_count": null,
      "outputs": []
    },
    {
      "cell_type": "markdown",
      "source": [
        "## **simulate**"
      ],
      "metadata": {
        "id": "ivSzPzOV-dZI"
      }
    },
    {
      "cell_type": "code",
      "source": [
        "from decimal import Decimal\n",
        "import json\n",
        "import urllib3\n",
        "http = urllib3.PoolManager()\n",
        "import numpy as np\n",
        "import joblib\n",
        "from google.colab import drive\n",
        "\n",
        "class bcolors:\n",
        "    OK = '\\033[92m' #GREEN\n",
        "    WARNING = '\\033[93m' #YELLOW\n",
        "    FAIL = '\\033[91m' #RED\n",
        "    RESET = '\\033[0m' #RESET COLOR\n",
        "\n",
        "def Nchf_ConvergedChargingFunction_create(ueID):\n",
        "    #create UE table\n",
        "    response=ueID+\" Create Successful!!\"\n",
        "    return response\n",
        "\n",
        "def getGuvalues(ueID):\n",
        "    data = json.dumps({'ue_ID':ueID})\n",
        "    URL=''\n",
        "    response = http.request('POST',URL, body=data)\n",
        "    response=response.data.decode()\n",
        "    response=json.loads(response)\n",
        "    response=response['body']\n",
        "    return response\n",
        "\n",
        "def getInternetvalues(ueID,time):\n",
        "    data = json.dumps({'ue_ID':ueID,'datetime':time})\n",
        "    URL=''\n",
        "    response = http.request('POST',URL, body=data)\n",
        "    response=response.data.decode()\n",
        "    response=json.loads(response)\n",
        "    response=response['body']\n",
        "    return response\n",
        "\n",
        "def putGU(ueID,value):\n",
        "    data = json.dumps({'ue_ID':ueID,'value':value})\n",
        "    URL=''\n",
        "    response = http.request('POST',URL, body=data)\n",
        "    response=response.data.decode()\n",
        "    response=json.loads(response)\n",
        "    return response\n",
        "\n",
        "def Nchf_ConvergedChargingFunction_writingsession(ueID,time): \n",
        "    GU_old=float(getGuvalues(ueID))\n",
        "    GU_consume=float(getInternetvalues(ueID,time))\n",
        "    GU_new=GU_old-GU_consume\n",
        "    GU_new=str(GU_new)\n",
        "    putGU(ueID,GU_new)\n",
        "    response=time+\" \"+bcolors.OK + \" [CTF]\" + bcolors.RESET+ueID+ \" Collecting Charging Event.\"\n",
        "    print(response)\n",
        "\n",
        "def Nchf_ConvergedChargingFunction_update(ueID,time):\n",
        "  data_GU=getGuvalues(ueID)\n",
        "  data_internet=getInternetvalues(ueID,time)\n",
        "  data_GU=float(data_GU)\n",
        "  if data_GU<=0.0:\n",
        "    predict_data=[data_internet]\n",
        "    predict_data=np.array(predict_data)\n",
        "    predict_data = np.reshape(predict_data, (predict_data.shape[0], 1, 1))\n",
        "    GU_predict = modeltest.predict(predict_data)\n",
        "    data_GU=abs(data_GU)\n",
        "    GU_predict=float(GU_predict)\n",
        "    data_GU=GU_predict+data_GU\n",
        "    data_GU=str(data_GU)\n",
        "    putGU(userid,data_GU)\n",
        "    print(time+\" \"+bcolors.FAIL + \" [CHF]\" + bcolors.RESET+ueID+ \" GU exhausted, Updating...\")\n",
        "  else:\n",
        "    print(time+\" \"+bcolors.OK + \" [CHF]\" + bcolors.RESET+ueID+ \" GU enough, no need to update.\")\n",
        "\n",
        "\n",
        "for i in range(1,8,1):\n",
        "  i=str(i)\n",
        "  for j in range(1,24,1):\n",
        "    j=str(j)\n",
        "    j=j.zfill(2)\n",
        "    datetime=\"2013/11/\"+i+\" \"+j+\":00\"\n",
        "    for k in range(0,5350,1):\n",
        "      k=str(k)\n",
        "      userid=\"imsi-20893\"+str(k.zfill(10))\n",
        "      Nchf_ConvergedChargingFunction_writingsession(userid,datetime)\n",
        "      Nchf_ConvergedChargingFunction_update(userid,datetime)"
      ],
      "metadata": {
        "id": "X7i072lYuRj-"
      },
      "execution_count": null,
      "outputs": []
    }
  ]
}
